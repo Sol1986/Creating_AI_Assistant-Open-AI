{
 "cells": [
  {
   "cell_type": "code",
   "execution_count": 79,
   "id": "0650b2fe-1c1c-4711-a0b3-2d2c67c6d04c",
   "metadata": {
    "jupyter": {
     "source_hidden": true
    }
   },
   "outputs": [],
   "source": [
    "# initialize environment and openai\n",
    "import openai\n",
    "import os\n",
    "os.environ['OPENAI_API_KEY'] = 'YOUR OPEN AI KEY GOES HERE'\n",
    "\n",
    "from openai import OpenAI\n",
    "client = OpenAI()"
   ]
  },
  {
   "cell_type": "code",
   "execution_count": 80,
   "id": "c51ba38f-00e6-4ccc-9b9f-1e9cf6b8769a",
   "metadata": {},
   "outputs": [],
   "source": [
    "#create new assistant\n",
    "assistant = client.beta.assistants.create(\n",
    "    name=\"Math Tutor\",\n",
    "    instructions=\"You are a personal math tutor. Write and run code to answer math questions.\",\n",
    "    tools=[{\"type\": \"code_interpreter\"}],\n",
    "    model=\"gpt-3.5-turbo-1106\"\n",
    ")"
   ]
  },
  {
   "cell_type": "code",
   "execution_count": 81,
   "id": "c4007b4a-ef68-475f-b2b5-ce74dfa44187",
   "metadata": {},
   "outputs": [],
   "source": [
    "#Create a new thread\n",
    "thread = client.beta.threads.create()"
   ]
  },
  {
   "cell_type": "code",
   "execution_count": 88,
   "id": "7015b333-d1f0-4f18-8fc4-f1920b4dd4c3",
   "metadata": {},
   "outputs": [
    {
     "name": "stdout",
     "output_type": "stream",
     "text": [
      "Message ID: msg_M5PeftaWWAwalt1hkVkqyPNK\n",
      "Thread ID: thread_DvnyLfBOAaxBR363WaeOYF09\n",
      "Role: user\n",
      "Content: I need to solve the equation `3x + 11 = 14`. Can you help me?\n"
     ]
    }
   ],
   "source": [
    "#Add a message to the thread\n",
    "message = client.beta.threads.messages.create(\n",
    "    thread_id=thread.id,\n",
    "    role=\"user\",\n",
    "    content=\"I need to solve the equation `3x + 11 = 14`. Can you help me?\"\n",
    ")\n",
    "\n",
    "print(\"Message ID:\", message.id)\n",
    "print(\"Thread ID:\", thread.id)\n",
    "print(\"Role:\", message.role)\n",
    "print(\"Content:\", message.content[0].text.value)  # Assuming content is a list with one element"
   ]
  },
  {
   "cell_type": "code",
   "execution_count": 83,
   "id": "6affd79c-c125-4eaf-8c49-acbd7674c49c",
   "metadata": {},
   "outputs": [],
   "source": [
    "#Run the assistant\n",
    "run = client.beta.threads.runs.create(\n",
    "  thread_id=thread.id,\n",
    "  assistant_id=assistant.id,\n",
    "  instructions=\"Please address the user as Jane Doe. The user has a premium account.\"\n",
    ")"
   ]
  },
  {
   "cell_type": "code",
   "execution_count": 85,
   "id": "57fda3ae-5f72-4ca6-81fa-597cd2c582db",
   "metadata": {},
   "outputs": [
    {
     "name": "stdout",
     "output_type": "stream",
     "text": [
      "Status: completed\n"
     ]
    }
   ],
   "source": [
    "#check the run status\n",
    "run = client.beta.threads.runs.retrieve(\n",
    "  thread_id=thread.id,\n",
    "  run_id=run.id\n",
    ")\n",
    "\n",
    "# Access and print the 'status' attribute\n",
    "print(f'Status: {run.status}')"
   ]
  },
  {
   "cell_type": "code",
   "execution_count": 86,
   "id": "3f22cf73-45ea-4313-8c83-cf1844aa8990",
   "metadata": {},
   "outputs": [
    {
     "name": "stdout",
     "output_type": "stream",
     "text": [
      "The solution to the equation 3x + 11 = 14 is x = 1.\n"
     ]
    }
   ],
   "source": [
    "#Display the assistant's response\n",
    "\n",
    "messages = client.beta.threads.messages.list(\n",
    "  thread_id=thread.id\n",
    ")\n",
    "\n",
    "messages = client.beta.threads.messages.list(thread_id=thread.id)\n",
    "\n",
    "for message in messages.data:\n",
    "    content = message.content[0]  # Assuming the message content is a list with one element\n",
    "    if content.type == 'text':\n",
    "        message_text = content.text.value\n",
    "        print(message_text)\n",
    "        break  # Exit the loop after printing the first message\n"
   ]
  },
  {
   "cell_type": "code",
   "execution_count": 89,
   "id": "e2682f6c-b512-42c9-b2f6-8deab2d8b9a6",
   "metadata": {},
   "outputs": [
    {
     "name": "stdout",
     "output_type": "stream",
     "text": [
      "Thread(id='thread_DvnyLfBOAaxBR363WaeOYF09', created_at=1705187610, metadata={'modified': 'true', 'user': 'user'}, object='thread')\n"
     ]
    }
   ],
   "source": [
    "#Update the thread\n",
    "my_updated_thread = client.beta.threads.update(\n",
    "  \"thread_DvnyLfBOAaxBR363WaeOYF09\",\n",
    "  metadata={\n",
    "    \"modified\": \"true\",\n",
    "    \"user\": \"user\"\n",
    "  }\n",
    ")\n",
    "print(my_updated_thread)"
   ]
  },
  {
   "cell_type": "code",
   "execution_count": null,
   "id": "cf78f29e-5300-4da4-a068-a7f2a659f4c0",
   "metadata": {},
   "outputs": [],
   "source": []
  }
 ],
 "metadata": {
  "kernelspec": {
   "display_name": "Python 3 (ipykernel)",
   "language": "python",
   "name": "python3"
  },
  "language_info": {
   "codemirror_mode": {
    "name": "ipython",
    "version": 3
   },
   "file_extension": ".py",
   "mimetype": "text/x-python",
   "name": "python",
   "nbconvert_exporter": "python",
   "pygments_lexer": "ipython3",
   "version": "3.11.7"
  }
 },
 "nbformat": 4,
 "nbformat_minor": 5
}
